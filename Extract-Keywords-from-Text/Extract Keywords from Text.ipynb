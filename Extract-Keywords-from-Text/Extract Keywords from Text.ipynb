{
 "cells": [
  {
   "cell_type": "markdown",
   "metadata": {
    "id": "076sYoycG_H4"
   },
   "source": [
    "# Extract Key words"
   ]
  },
  {
   "cell_type": "code",
   "execution_count": 4,
   "metadata": {
    "id": "oQA-oVZHHlAP"
   },
   "outputs": [],
   "source": [
    "# Initialize a Rake object\n",
    "rake_nltk_var = Rake()"
   ]
  },
  {
   "cell_type": "code",
   "execution_count": 5,
   "metadata": {},
   "outputs": [],
   "source": [
    "# Define the text from which we want to extract keywords\n",
    "test = '''Data analysis has become an integral part of any industry that aims to be data-driven. Python is one of the most popular programming languages for data analysis due to its simplicity and vast library ecosystem. With the rise of machine learning, data scientists can now develop predictive models to uncover patterns and insights that were previously hard to detect. Data mining techniques are often employed to sift through large datasets and extract valuable information. Statistical tools like R and SPSS are also commonly used in the data analysis process, complementing Python's capabilities. Visualization tools like Tableau and Power BI are indispensable for interpreting the data and presenting it in an understandable manner. Natural Language Processing (NLP) has opened new avenues in text analytics, making it possible to analyze customer reviews, social media chatter, and other textual data. SQL remains a key tool for data manipulation, allowing analysts to query databases efficiently. Big Data technologies like Hadoop and Spark are enabling the analysis of data at an unprecedented scale. Ultimately, the goal of data analysis is to provide actionable insights that can inform decision-making and drive business success.'''"
   ]
  },
  {
   "cell_type": "code",
   "execution_count": 6,
   "metadata": {},
   "outputs": [],
   "source": [
    "# Use the Rake object to extract keywords from the text\n",
    "# The correct method name is extract_keywords_from_text\n",
    "rake_nltk_var.extract_keywords_from_text(test)"
   ]
  },
  {
   "cell_type": "code",
   "execution_count": 7,
   "metadata": {},
   "outputs": [],
   "source": [
    "# Get the ranked phrases which essentially are the extracted keywords\n",
    "# Corrected the variable name to match the initialized Rake object\n",
    "keyword_extracted = rake_nltk_var.get_ranked_phrases()"
   ]
  },
  {
   "cell_type": "code",
   "execution_count": 8,
   "metadata": {},
   "outputs": [
    {
     "name": "stdout",
     "output_type": "stream",
     "text": [
      "['big data technologies like hadoop', 'visualization tools like tableau', 'statistical tools like r', 'vast library ecosystem', 'social media chatter', 'query databases efficiently', 'popular programming languages', 'opened new avenues', 'natural language processing', 'extract valuable information', 'drive business success', 'develop predictive models', 'analyze customer reviews', 'also commonly used', 'data mining techniques', 'provide actionable insights', 'data analysis process', 'data analysis due', 'data analysis', 'data analysis', 'textual data', 'data scientists', 'data manipulation', 'unprecedented scale', 'understandable manner', 'uncover patterns', 'text analytics', 'sql remains', 'previously hard', 'power bi', 'often employed', 'machine learning', 'large datasets', 'key tool', 'integral part', 'inform decision', 'allowing analysts', 'complementing python', 'data', 'data', 'data', 'analysis', 'insights', 'python', 'ultimately', 'spss', 'spark', 'simplicity', 'sift', 'rise', 'presenting', 'possible', 'one', 'nlp', 'making', 'making', 'interpreting', 'industry', 'indispensable', 'goal', 'enabling', 'driven', 'detect', 'capabilities', 'become', 'aims']\n"
     ]
    }
   ],
   "source": [
    "# Print the extracted keywords\n",
    "# Corrected the variable name to match what was defined\n",
    "print(keyword_extracted)"
   ]
  }
 ],
 "metadata": {
  "colab": {
   "collapsed_sections": [],
   "provenance": []
  },
  "kernelspec": {
   "display_name": "Python 3 (ipykernel)",
   "language": "python",
   "name": "python3"
  },
  "language_info": {
   "codemirror_mode": {
    "name": "ipython",
    "version": 3
   },
   "file_extension": ".py",
   "mimetype": "text/x-python",
   "name": "python",
   "nbconvert_exporter": "python",
   "pygments_lexer": "ipython3",
   "version": "3.10.9"
  }
 },
 "nbformat": 4,
 "nbformat_minor": 1
}
